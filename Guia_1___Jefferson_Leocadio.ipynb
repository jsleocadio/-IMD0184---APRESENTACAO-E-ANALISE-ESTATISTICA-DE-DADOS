{
  "nbformat": 4,
  "nbformat_minor": 0,
  "metadata": {
    "colab": {
      "provenance": [],
      "authorship_tag": "ABX9TyNDHxbNLuQenwESJr2DTESm",
      "include_colab_link": true
    },
    "kernelspec": {
      "name": "python3",
      "display_name": "Python 3"
    },
    "language_info": {
      "name": "python"
    }
  },
  "cells": [
    {
      "cell_type": "markdown",
      "metadata": {
        "id": "view-in-github",
        "colab_type": "text"
      },
      "source": [
        "<a href=\"https://colab.research.google.com/github/jsleocadio/-IMD0184---APRESENTACAO-E-ANALISE-ESTATISTICA-DE-DADOS/blob/main/Guia_1___Jefferson_Leocadio.ipynb\" target=\"_parent\"><img src=\"https://colab.research.google.com/assets/colab-badge.svg\" alt=\"Open In Colab\"/></a>"
      ]
    },
    {
      "cell_type": "markdown",
      "source": [
        "### Tema – Qual o seu tema de estudo?\n",
        "\n",
        "É uma proposição mais abrangente. É o assunto que se pretende analisar. Frequentemente diz respeito a um fato ou fenômeno observado pelo\n",
        "pesquisador e que lhe causa especial interesse. Quanto mais se interessa e quanto melhor conhece esse tema, mais instigado o pesquisador se sente\n",
        "para levantar novas informações a respeito dele."
      ],
      "metadata": {
        "id": "s7pIEWV6vFd7"
      }
    },
    {
      "cell_type": "markdown",
      "source": [
        "Mortes por COVID-19"
      ],
      "metadata": {
        "id": "6w5kmxukvma1"
      }
    },
    {
      "cell_type": "markdown",
      "source": [
        "### Problema – O que você pretende responder com sua análise?\n",
        "\n",
        "É uma pergunta específica que pretendemos responder a respeito do tema escolhido. O problema está contido no tema. O problema é a pergunta\n",
        "central que queremos responder como pesquisadores ao realizar a pesquisa e deve ser apresentado na forma de uma pergunta. O ato de estruturar\n",
        "perguntas possibilita identificar as dúvidas existentes no cenário que envolve o tema.\n",
        "Um Problema de pesquisa bem elaborado deve:\n",
        "* Delimitar o tema selecionando um recorte do assunto a ser pesquisado;\n",
        "* Delimitar a área geográfica de abrangência da pesquisa;\n",
        "* Delimitar o período de tempo que se pretende investigar."
      ],
      "metadata": {
        "id": "fY7uTYgUv6Mx"
      }
    },
    {
      "cell_type": "markdown",
      "source": [
        "Como a vacinação no Brasil influenciou nas mortes por COVID-19"
      ],
      "metadata": {
        "id": "A6OngpX2wbO_"
      }
    },
    {
      "cell_type": "markdown",
      "source": [
        "### Justificativa – Por que isso é relevante?\n",
        "\n",
        "Nesta etapa deve-se refletir sobre “o porquê” da realização da pesquisa procurando identificar as razões da preferência pelo tema escolhido e sua\n",
        "importância em relação a outros temas. Pergunte a você mesmo: o tema é relevante e, se é, por quê? Quais os pontos positivos que você percebe na\n",
        "abordagem proposta? Que vantagens e benefícios você pressupõe que a pesquisa proporcionará? A justificativa deverá convencer que o projeto, tem\n",
        "importância e relevância. Deve-se encontrar outros autores com trabalhos semelhantes, mostrando assim o interesse pela comunidade científica."
      ],
      "metadata": {
        "id": "DVB2MT1Ky8K8"
      }
    },
    {
      "cell_type": "markdown",
      "source": [
        "A vacinação foi eficaz no combate ao Coronavírus"
      ],
      "metadata": {
        "id": "-4DubwFAzcgs"
      }
    },
    {
      "cell_type": "markdown",
      "source": [
        "### Objetivo geral e Objetivos Específicos – Que objetivos você pretende atingir?\n",
        "O objetivo geral será a síntese do que se pretende alcançar, e os objetivos específicos explicitarão os detalhes e será um desdobramento do objetivo\n",
        "geral. Os objetivos informarão porque está propondo a pesquisa, isto é, quais os resultados que pretende alcançar ou qual a contribuição que sua\n",
        "pesquisa irá efetivamente proporcionar."
      ],
      "metadata": {
        "id": "JZCGhOJl00us"
      }
    },
    {
      "cell_type": "markdown",
      "source": [
        "**Objetivo Geral:** Provar que a vacinação foi eficaz"
      ],
      "metadata": {
        "id": "9dFL5AEu06Do"
      }
    },
    {
      "cell_type": "markdown",
      "source": [
        "### Hipóteses – Que suposições guiam o seu trabalho?\n",
        "É sinônimo de suposição. É uma afirmação que tenta responder ao problema levantado. É uma pré solução para o problema. São\n",
        "apontadas de maneira empírica, ou seja, é sempre fruto de uma observação e nunca em função unicamente dos interesses do\n",
        "pesquisador. É essa etapa que vai guiar a parte de Modelagem Estatística dos Dados."
      ],
      "metadata": {
        "id": "VHg6X8O71dOq"
      }
    },
    {
      "cell_type": "markdown",
      "source": [
        "Após a vacinação, o contágio passou a reduzir e as mortes foram reduzidas."
      ],
      "metadata": {
        "id": "q3e7j0Tw1jiZ"
      }
    },
    {
      "cell_type": "markdown",
      "source": [
        "###Banco de dados – Onde você pode encontrar dados a respeito?\n",
        "A partir dos dados é possível obter o relacionamento entre as variáveis e buscar respostas para validar ou refutar as suas hipóteses.\n",
        "Deve-se ter em mente que, quanto mais dados se tem sobre o tema, mais informação é possível gerar a respeito."
      ],
      "metadata": {
        "id": "xvA1-IqF18AC"
      }
    },
    {
      "cell_type": "markdown",
      "source": [
        "* Dados da OMS\n",
        "* Dados do MS"
      ],
      "metadata": {
        "id": "hSoVymTt2Gi2"
      }
    }
  ]
}